{
 "cells": [
  {
   "cell_type": "markdown",
   "source": [
    "# Analysis of relationship between basketball courts and every day accidents"
   ],
   "metadata": {
    "slideshow": {
     "slide_type": "slide"
    }
   }
  },
  {
   "cell_type": "markdown",
   "source": [
    "For my project I am using [Basketball Courts Data](https://www.data.act.gov.au/api/views/igti-4f4a/rows.csv) and [Bike Crash Data](https://www.data.act.gov.au/api/views/n2kg-qkwj/rows.csv)"
   ],
   "metadata": {}
  },
  {
   "cell_type": "code",
   "execution_count": 62,
   "source": [
    "import matplotlib\r\n",
    "import matplotlib.pyplot as plt\r\n",
    "import numpy as np\r\n",
    "import pandas as pd\r\n",
    "import os\r\n",
    "from datetime import datetime\r\n"
   ],
   "outputs": [],
   "metadata": {
    "slideshow": {
     "slide_type": "-"
    }
   }
  },
  {
   "cell_type": "code",
   "execution_count": null,
   "source": [
    "%matplotlib inline"
   ],
   "outputs": [],
   "metadata": {
    "slideshow": {
     "slide_type": "-"
    }
   }
  },
  {
   "cell_type": "code",
   "execution_count": null,
   "source": [
    "plt.rcParams['figure.figsize'] = (10, 5)"
   ],
   "outputs": [],
   "metadata": {}
  },
  {
   "cell_type": "code",
   "execution_count": null,
   "source": [
    "saved_style_state = matplotlib.rcParams.copy() #give us a style state to go back to"
   ],
   "outputs": [],
   "metadata": {
    "slideshow": {
     "slide_type": "skip"
    }
   }
  },
  {
   "cell_type": "code",
   "execution_count": null,
   "source": [
    "if os.path.isfile(\"Basketball_Courts.csv\"):\r\n",
    "    filepath = \"Basketball_Courts.csv\"\r\n",
    "    print(\"loading from file\")\r\n",
    "else:\r\n",
    "    filepath = \"https://www.data.act.gov.au/api/views/igti-4f4a/rows.csv\"\r\n",
    "    print(\"loading from the internet\")\r\n",
    "\r\n",
    "basketball_data = pd.read_csv(filepath)\r\n",
    "print(\"done\")"
   ],
   "outputs": [
    {
     "output_type": "stream",
     "name": "stdout",
     "text": [
      "loading from the internet\n",
      "done\n"
     ]
    }
   ],
   "metadata": {
    "slideshow": {
     "slide_type": "fragment"
    }
   }
  },
  {
   "cell_type": "code",
   "execution_count": null,
   "source": [
    "if os.path.isfile(\"Cyclist_Crashes.csv\"):\r\n",
    "    filepath = \"Cyclist_Crashes.csv\"\r\n",
    "    print(\"loading from file\")\r\n",
    "else:\r\n",
    "    filepath = \"https://www.data.act.gov.au/api/views/n2kg-qkwj/rows.csv\"\r\n",
    "    print(\"loading from the internet\")\r\n",
    "\r\n",
    "Cyclist_Crashes_data = pd.read_csv(filepath)\r\n",
    "print(\"done\")"
   ],
   "outputs": [
    {
     "output_type": "stream",
     "name": "stdout",
     "text": [
      "loading from the internet\n",
      "done\n"
     ]
    }
   ],
   "metadata": {}
  },
  {
   "cell_type": "code",
   "execution_count": null,
   "source": [
    "basketball_data.head()"
   ],
   "outputs": [
    {
     "output_type": "execute_result",
     "data": {
      "text/plain": [
       "       ID          TYPE  DIVISION                              LOCATION  \\\n",
       "0  Bskt45  Double Court    Wright      Porter Street Neighbourhood Park   \n",
       "1   Bskt2  Single Court   Ainslie                       Corroboree Park   \n",
       "2  Bskt14  Single Court    Deakin    Lawley Street - Neighbourhood Park   \n",
       "3  Bskt11  Single Court     Flynn  Blackwell Circuit Neighbourhood Park   \n",
       "4  Bskt39  Single Court  Nicholls    Lyrebird Place Pedestrian Parkland   \n",
       "\n",
       "   IMAGE_LINK  VIDEO_LINK   LATITUDE   LONGITUDE                Location_1  \n",
       "0         NaN         NaN -35.311400  149.028152    (-35.3114, 149.028152)  \n",
       "1         NaN         NaN -35.268338  149.141855  (-35.268338, 149.141855)  \n",
       "2         NaN         NaN -35.319147  149.100659  (-35.319147, 149.100659)  \n",
       "3         NaN         NaN -35.206624  149.038999  (-35.206624, 149.038999)  \n",
       "4         NaN         NaN -35.193455  149.106676  (-35.193455, 149.106676)  "
      ],
      "text/html": [
       "<div>\n",
       "<style scoped>\n",
       "    .dataframe tbody tr th:only-of-type {\n",
       "        vertical-align: middle;\n",
       "    }\n",
       "\n",
       "    .dataframe tbody tr th {\n",
       "        vertical-align: top;\n",
       "    }\n",
       "\n",
       "    .dataframe thead th {\n",
       "        text-align: right;\n",
       "    }\n",
       "</style>\n",
       "<table border=\"1\" class=\"dataframe\">\n",
       "  <thead>\n",
       "    <tr style=\"text-align: right;\">\n",
       "      <th></th>\n",
       "      <th>ID</th>\n",
       "      <th>TYPE</th>\n",
       "      <th>DIVISION</th>\n",
       "      <th>LOCATION</th>\n",
       "      <th>IMAGE_LINK</th>\n",
       "      <th>VIDEO_LINK</th>\n",
       "      <th>LATITUDE</th>\n",
       "      <th>LONGITUDE</th>\n",
       "      <th>Location_1</th>\n",
       "    </tr>\n",
       "  </thead>\n",
       "  <tbody>\n",
       "    <tr>\n",
       "      <th>0</th>\n",
       "      <td>Bskt45</td>\n",
       "      <td>Double Court</td>\n",
       "      <td>Wright</td>\n",
       "      <td>Porter Street Neighbourhood Park</td>\n",
       "      <td>NaN</td>\n",
       "      <td>NaN</td>\n",
       "      <td>-35.311400</td>\n",
       "      <td>149.028152</td>\n",
       "      <td>(-35.3114, 149.028152)</td>\n",
       "    </tr>\n",
       "    <tr>\n",
       "      <th>1</th>\n",
       "      <td>Bskt2</td>\n",
       "      <td>Single Court</td>\n",
       "      <td>Ainslie</td>\n",
       "      <td>Corroboree Park</td>\n",
       "      <td>NaN</td>\n",
       "      <td>NaN</td>\n",
       "      <td>-35.268338</td>\n",
       "      <td>149.141855</td>\n",
       "      <td>(-35.268338, 149.141855)</td>\n",
       "    </tr>\n",
       "    <tr>\n",
       "      <th>2</th>\n",
       "      <td>Bskt14</td>\n",
       "      <td>Single Court</td>\n",
       "      <td>Deakin</td>\n",
       "      <td>Lawley Street - Neighbourhood Park</td>\n",
       "      <td>NaN</td>\n",
       "      <td>NaN</td>\n",
       "      <td>-35.319147</td>\n",
       "      <td>149.100659</td>\n",
       "      <td>(-35.319147, 149.100659)</td>\n",
       "    </tr>\n",
       "    <tr>\n",
       "      <th>3</th>\n",
       "      <td>Bskt11</td>\n",
       "      <td>Single Court</td>\n",
       "      <td>Flynn</td>\n",
       "      <td>Blackwell Circuit Neighbourhood Park</td>\n",
       "      <td>NaN</td>\n",
       "      <td>NaN</td>\n",
       "      <td>-35.206624</td>\n",
       "      <td>149.038999</td>\n",
       "      <td>(-35.206624, 149.038999)</td>\n",
       "    </tr>\n",
       "    <tr>\n",
       "      <th>4</th>\n",
       "      <td>Bskt39</td>\n",
       "      <td>Single Court</td>\n",
       "      <td>Nicholls</td>\n",
       "      <td>Lyrebird Place Pedestrian Parkland</td>\n",
       "      <td>NaN</td>\n",
       "      <td>NaN</td>\n",
       "      <td>-35.193455</td>\n",
       "      <td>149.106676</td>\n",
       "      <td>(-35.193455, 149.106676)</td>\n",
       "    </tr>\n",
       "  </tbody>\n",
       "</table>\n",
       "</div>"
      ]
     },
     "metadata": {},
     "execution_count": 8
    }
   ],
   "metadata": {
    "slideshow": {
     "slide_type": "slide"
    }
   }
  },
  {
   "cell_type": "code",
   "execution_count": null,
   "source": [
    "Cyclist_Crashes_data.head()"
   ],
   "outputs": [
    {
     "output_type": "execute_result",
     "data": {
      "text/plain": [
       "   CRASH_ID        CRASH_DATE CRASH_TIME              SEVERITY  \\\n",
       "0   1212158    02 August 2019      12:00                Injury   \n",
       "1   1212428      26 July 2019      18:20  Property Damage Only   \n",
       "2   1188323      15 July 2018      11:00  Property Damage Only   \n",
       "3   1188459      19 July 2018      09:30  Property Damage Only   \n",
       "4   1221087  16 December 2019      07:24  Property Damage Only   \n",
       "\n",
       "                   CRASH_TYPE  CYCLISTS  CYCLIST_CASUALTIES  \\\n",
       "0  Other - Vehicle to Vehicle         1                   1   \n",
       "1       Right angle collision         1                   0   \n",
       "2       Right angle collision         1                   0   \n",
       "3   Same direction side swipe         1                   0   \n",
       "4  Other - Vehicle to Vehicle         1                   0   \n",
       "\n",
       "                       REPORTED_LOCATION   LATITUDE   LONGITUDE  \\\n",
       "0     FAWKNER STREET (FARRER -> ELOUERA) -35.272927  149.135539   \n",
       "1            BATMAN/GOOREEN INTERSECTION -35.275991  149.141070   \n",
       "2        COTTER/LADY DENMAN INTERSECTION -35.312936  149.082802   \n",
       "3              ANTILL/MELBA INTERSECTION -35.248800  149.142165   \n",
       "4  ANTILL/MOUAT/NORTHBOURNE INTERSECTION -35.248235  149.134223   \n",
       "\n",
       "                 LOCATION_1  \n",
       "0  (-35.272927, 149.135539)  \n",
       "1   (-35.275991, 149.14107)  \n",
       "2  (-35.312936, 149.082802)  \n",
       "3    (-35.2488, 149.142165)  \n",
       "4  (-35.248235, 149.134223)  "
      ],
      "text/html": [
       "<div>\n",
       "<style scoped>\n",
       "    .dataframe tbody tr th:only-of-type {\n",
       "        vertical-align: middle;\n",
       "    }\n",
       "\n",
       "    .dataframe tbody tr th {\n",
       "        vertical-align: top;\n",
       "    }\n",
       "\n",
       "    .dataframe thead th {\n",
       "        text-align: right;\n",
       "    }\n",
       "</style>\n",
       "<table border=\"1\" class=\"dataframe\">\n",
       "  <thead>\n",
       "    <tr style=\"text-align: right;\">\n",
       "      <th></th>\n",
       "      <th>CRASH_ID</th>\n",
       "      <th>CRASH_DATE</th>\n",
       "      <th>CRASH_TIME</th>\n",
       "      <th>SEVERITY</th>\n",
       "      <th>CRASH_TYPE</th>\n",
       "      <th>CYCLISTS</th>\n",
       "      <th>CYCLIST_CASUALTIES</th>\n",
       "      <th>REPORTED_LOCATION</th>\n",
       "      <th>LATITUDE</th>\n",
       "      <th>LONGITUDE</th>\n",
       "      <th>LOCATION_1</th>\n",
       "    </tr>\n",
       "  </thead>\n",
       "  <tbody>\n",
       "    <tr>\n",
       "      <th>0</th>\n",
       "      <td>1212158</td>\n",
       "      <td>02 August 2019</td>\n",
       "      <td>12:00</td>\n",
       "      <td>Injury</td>\n",
       "      <td>Other - Vehicle to Vehicle</td>\n",
       "      <td>1</td>\n",
       "      <td>1</td>\n",
       "      <td>FAWKNER STREET (FARRER -&gt; ELOUERA)</td>\n",
       "      <td>-35.272927</td>\n",
       "      <td>149.135539</td>\n",
       "      <td>(-35.272927, 149.135539)</td>\n",
       "    </tr>\n",
       "    <tr>\n",
       "      <th>1</th>\n",
       "      <td>1212428</td>\n",
       "      <td>26 July 2019</td>\n",
       "      <td>18:20</td>\n",
       "      <td>Property Damage Only</td>\n",
       "      <td>Right angle collision</td>\n",
       "      <td>1</td>\n",
       "      <td>0</td>\n",
       "      <td>BATMAN/GOOREEN INTERSECTION</td>\n",
       "      <td>-35.275991</td>\n",
       "      <td>149.141070</td>\n",
       "      <td>(-35.275991, 149.14107)</td>\n",
       "    </tr>\n",
       "    <tr>\n",
       "      <th>2</th>\n",
       "      <td>1188323</td>\n",
       "      <td>15 July 2018</td>\n",
       "      <td>11:00</td>\n",
       "      <td>Property Damage Only</td>\n",
       "      <td>Right angle collision</td>\n",
       "      <td>1</td>\n",
       "      <td>0</td>\n",
       "      <td>COTTER/LADY DENMAN INTERSECTION</td>\n",
       "      <td>-35.312936</td>\n",
       "      <td>149.082802</td>\n",
       "      <td>(-35.312936, 149.082802)</td>\n",
       "    </tr>\n",
       "    <tr>\n",
       "      <th>3</th>\n",
       "      <td>1188459</td>\n",
       "      <td>19 July 2018</td>\n",
       "      <td>09:30</td>\n",
       "      <td>Property Damage Only</td>\n",
       "      <td>Same direction side swipe</td>\n",
       "      <td>1</td>\n",
       "      <td>0</td>\n",
       "      <td>ANTILL/MELBA INTERSECTION</td>\n",
       "      <td>-35.248800</td>\n",
       "      <td>149.142165</td>\n",
       "      <td>(-35.2488, 149.142165)</td>\n",
       "    </tr>\n",
       "    <tr>\n",
       "      <th>4</th>\n",
       "      <td>1221087</td>\n",
       "      <td>16 December 2019</td>\n",
       "      <td>07:24</td>\n",
       "      <td>Property Damage Only</td>\n",
       "      <td>Other - Vehicle to Vehicle</td>\n",
       "      <td>1</td>\n",
       "      <td>0</td>\n",
       "      <td>ANTILL/MOUAT/NORTHBOURNE INTERSECTION</td>\n",
       "      <td>-35.248235</td>\n",
       "      <td>149.134223</td>\n",
       "      <td>(-35.248235, 149.134223)</td>\n",
       "    </tr>\n",
       "  </tbody>\n",
       "</table>\n",
       "</div>"
      ]
     },
     "metadata": {},
     "execution_count": 9
    }
   ],
   "metadata": {}
  },
  {
   "cell_type": "code",
   "execution_count": null,
   "source": [
    "basketball_data.columns"
   ],
   "outputs": [
    {
     "output_type": "execute_result",
     "data": {
      "text/plain": [
       "Index(['ID', 'TYPE', 'DIVISION', 'LOCATION', 'IMAGE_LINK', 'VIDEO_LINK',\n",
       "       'LATITUDE', 'LONGITUDE', 'Location_1'],\n",
       "      dtype='object')"
      ]
     },
     "metadata": {},
     "execution_count": 10
    }
   ],
   "metadata": {
    "slideshow": {
     "slide_type": "fragment"
    }
   }
  },
  {
   "cell_type": "code",
   "execution_count": null,
   "source": [
    "row_one = basketball_data.iloc[1]\r\n",
    "row_one"
   ],
   "outputs": [
    {
     "output_type": "execute_result",
     "data": {
      "text/plain": [
       "ID                               Bskt2\n",
       "TYPE                      Single Court\n",
       "DIVISION                       Ainslie\n",
       "LOCATION               Corroboree Park\n",
       "IMAGE_LINK                         NaN\n",
       "VIDEO_LINK                         NaN\n",
       "LATITUDE                    -35.268338\n",
       "LONGITUDE                   149.141855\n",
       "Location_1    (-35.268338, 149.141855)\n",
       "Name: 1, dtype: object"
      ]
     },
     "metadata": {},
     "execution_count": 11
    }
   ],
   "metadata": {
    "slideshow": {
     "slide_type": "subslide"
    }
   }
  },
  {
   "cell_type": "code",
   "execution_count": null,
   "source": [
    "row_one = Cyclist_Crashes_data.iloc[1]\r\n",
    "row_one"
   ],
   "outputs": [
    {
     "output_type": "execute_result",
     "data": {
      "text/plain": [
       "CRASH_ID                                  1212428\n",
       "CRASH_DATE                           26 July 2019\n",
       "CRASH_TIME                                  18:20\n",
       "SEVERITY                     Property Damage Only\n",
       "CRASH_TYPE                  Right angle collision\n",
       "CYCLISTS                                        1\n",
       "CYCLIST_CASUALTIES                              0\n",
       "REPORTED_LOCATION     BATMAN/GOOREEN INTERSECTION\n",
       "LATITUDE                               -35.275991\n",
       "LONGITUDE                               149.14107\n",
       "LOCATION_1                (-35.275991, 149.14107)\n",
       "Name: 1, dtype: object"
      ]
     },
     "metadata": {},
     "execution_count": 12
    }
   ],
   "metadata": {}
  },
  {
   "cell_type": "code",
   "execution_count": null,
   "source": [
    "row_one.DIVISION"
   ],
   "outputs": [
    {
     "output_type": "execute_result",
     "data": {
      "text/plain": [
       "        ID          TYPE                    DIVISION  \\\n",
       "0   Bskt45  Double Court                      Wright   \n",
       "1    Bskt2  Single Court                     Ainslie   \n",
       "2   Bskt14  Single Court                      Deakin   \n",
       "3   Bskt11  Single Court                       Flynn   \n",
       "4   Bskt39  Single Court                    Nicholls   \n",
       "5   Bskt10    4 Way Hoop                       Lyons   \n",
       "6   Bskt40    Half Court                    Chisholm   \n",
       "7   Bskt25  Single Court                   Macarthur   \n",
       "8    Bskt5    Half Court                    Greenway   \n",
       "9    Bskt8    4 Way Hoop                      Kambah   \n",
       "10  Bskt26    4 Way Hoop                 Oaks Estate   \n",
       "11  Bskt29  Double Court                   Belconnen   \n",
       "12   Bskt4    Half Court                      Deakin   \n",
       "13  Bskt32  Single Court                    O'connor   \n",
       "14  Bskt42    4 Way Hoop                   Charnwood   \n",
       "15   Bskt7    4 Way Hoop                      Kambah   \n",
       "16  Bskt35    Half Court                   Waramanga   \n",
       "17  Bskt12    Half Court                       Evatt   \n",
       "18   Bskt6  Single Court                      Gordon   \n",
       "19  Bskt28    Half Court  Paddys River (Rural Dist.)   \n",
       "20  Bskt17    Half Court                    Bonython   \n",
       "21  Bskt34    Half Court                   Waramanga   \n",
       "22   Bskt1    Half Court                      Weston   \n",
       "23   Bskt3    Half Court                    Harrison   \n",
       "24  Bskt15    Half Court                    Kingston   \n",
       "25  Bskt30  Single Court                 Narrabundah   \n",
       "26  Bskt31    Half Court                       Forde   \n",
       "27  Bskt33    Half Court                       Duffy   \n",
       "28  Bskt37    4 Way Hoop                      Kambah   \n",
       "29  Bskt24    Half Court                     Chifley   \n",
       "30  Bskt38    4 Way Hoop                      Kambah   \n",
       "31  Bskt23    Half Court                      Kambah   \n",
       "32  Bskt13    Half Court                     Hackett   \n",
       "33  Bskt36    Half Court                   Wanniassa   \n",
       "34  Bskt22    Half Court                       Forde   \n",
       "35  Bskt44  Single Court                     Throsby   \n",
       "36  Bskt43    Half Court                      Monash   \n",
       "37  Bskt16    Half Court                   Macgregor   \n",
       "38  Bskt20  Double Court                     Lyneham   \n",
       "39  Bskt21    Half Court                      Dunlop   \n",
       "40  Bskt41    Half Court                   Ngunnawal   \n",
       "41  Bskt19    Half Court                     Phillip   \n",
       "42   Bskt9    4 Way Hoop                      Kambah   \n",
       "43  Bskt27    Half Court                        City   \n",
       "44  Bskt18  Single Court                   Gungahlin   \n",
       "\n",
       "                                    LOCATION  IMAGE_LINK  VIDEO_LINK  \\\n",
       "0           Porter Street Neighbourhood Park         NaN         NaN   \n",
       "1                            Corroboree Park         NaN         NaN   \n",
       "2         Lawley Street - Neighbourhood Park         NaN         NaN   \n",
       "3       Blackwell Circuit Neighbourhood Park         NaN         NaN   \n",
       "4         Lyrebird Place Pedestrian Parkland         NaN         NaN   \n",
       "5      Devonport Street - Neighbourhood Park         NaN         NaN   \n",
       "6           Alston Street Neighbourhood Park         NaN         NaN   \n",
       "7     Hawkesworth Place - Neighbourhood Park         NaN         NaN   \n",
       "8             Lake Tuggeranong District Park         NaN         NaN   \n",
       "9          Rundle Place - Neighbourhood Park         NaN         NaN   \n",
       "10           River Street Neighbourhood Park         NaN         NaN   \n",
       "11                 John Knight Memorial Park         NaN         NaN   \n",
       "12        Hannah Place - Pedestrian Parkland         NaN         NaN   \n",
       "13        Cockle Street  Pedestrian Parkland         NaN         NaN   \n",
       "14          Packham Place Neighbourhood Park         NaN         NaN   \n",
       "15  Boddington Crescent - Neighbourhood Park         NaN         NaN   \n",
       "16      Nemarang Crescent Neighbourhood Park         NaN         NaN   \n",
       "17       Kingston Street Pedestrian Parkland         NaN         NaN   \n",
       "18                   Point Hut District Park         NaN         NaN   \n",
       "19                       Coree - Cotter Road         NaN         NaN   \n",
       "20        Burgoyne Street Neighbourhood Park         NaN         NaN   \n",
       "21          Malara Street Neighbourhood Park         NaN         NaN   \n",
       "22        Dillon Close - Pedestrian Parkland         NaN         NaN   \n",
       "23           Helby Street Neighbourhood Park         NaN         NaN   \n",
       "24    Sandalwood Street - Neighbourhood Park         NaN         NaN   \n",
       "25                          Kootara Crescent         NaN         NaN   \n",
       "26   Mulligans Flat Road Pedestrian Parkland         NaN         NaN   \n",
       "27     Cargelligo Street Pedestrian Parkland         NaN         NaN   \n",
       "28                      Kambah District Park         NaN         NaN   \n",
       "29           Shann Place  Neighbourhood Park         NaN         NaN   \n",
       "30                      Kambah District Park         NaN         NaN   \n",
       "31    Boddington Crescent Neighbourhood Park         NaN         NaN   \n",
       "32        Brennan Street  Neighbourhood Park         NaN         NaN   \n",
       "33       Lansell Circuit Pedestrian Parkland         NaN         NaN   \n",
       "34      Amy Ackman Street Neighbourhood Park         NaN         NaN   \n",
       "35         Bettong Avenue Neighbourhood Park         NaN         NaN   \n",
       "36         Griffin Place Pedestrian Parkland         NaN         NaN   \n",
       "37    Clyde Finlay Street Neighbourhood Park         NaN         NaN   \n",
       "38                Lambert Place - Road Verge         NaN         NaN   \n",
       "39     Percy Pegg Circuit Neighbourhood Park         NaN         NaN   \n",
       "40       Gadali Crescent Pedestrian Parkland         NaN         NaN   \n",
       "41                      Edison District Park         NaN         NaN   \n",
       "42     Attiwell Circuit - Neighbourhood Park         NaN         NaN   \n",
       "43       City Youth Centre Basket Ball Court         NaN         NaN   \n",
       "44                     Yerrabi District Park         NaN         NaN   \n",
       "\n",
       "     LATITUDE   LONGITUDE                Location_1  \n",
       "0  -35.311400  149.028152    (-35.3114, 149.028152)  \n",
       "1  -35.268338  149.141855  (-35.268338, 149.141855)  \n",
       "2  -35.319147  149.100659  (-35.319147, 149.100659)  \n",
       "3  -35.206624  149.038999  (-35.206624, 149.038999)  \n",
       "4  -35.193455  149.106676  (-35.193455, 149.106676)  \n",
       "5  -35.336639  149.073916  (-35.336639, 149.073916)  \n",
       "6  -35.421280  149.122054   (-35.42128, 149.122054)  \n",
       "7  -35.408123  149.129002  (-35.408123, 149.129002)  \n",
       "8  -35.402904  149.071724  (-35.402904, 149.071724)  \n",
       "9  -35.372251  149.062246  (-35.372251, 149.062246)  \n",
       "10 -35.341884  149.227383  (-35.341884, 149.227383)  \n",
       "11 -35.237826  149.074645  (-35.237826, 149.074645)  \n",
       "12 -35.314768  149.105790   (-35.314768, 149.10579)  \n",
       "13 -35.264871  149.113599  (-35.264871, 149.113599)  \n",
       "14 -35.201965  149.038737  (-35.201965, 149.038737)  \n",
       "15 -35.389103  149.051935  (-35.389103, 149.051935)  \n",
       "16 -35.357267  149.063593  (-35.357267, 149.063593)  \n",
       "17 -35.209532  149.077357  (-35.209532, 149.077357)  \n",
       "18 -35.456377  149.084235  (-35.456377, 149.084235)  \n",
       "19 -35.323883  148.941168  (-35.323883, 148.941168)  \n",
       "20 -35.426712  149.071640   (-35.426712, 149.07164)  \n",
       "21 -35.350207  149.061227  (-35.350207, 149.061227)  \n",
       "22 -35.337649  149.053683  (-35.337649, 149.053683)  \n",
       "23 -35.207980  149.160242   (-35.20798, 149.160242)  \n",
       "24 -35.316660  149.152879   (-35.31666, 149.152879)  \n",
       "25 -35.330285  149.151911  (-35.330285, 149.151911)  \n",
       "26 -35.157396  149.150881  (-35.157396, 149.150881)  \n",
       "27 -35.334126  149.030598  (-35.334126, 149.030598)  \n",
       "28 -35.392426  149.062122  (-35.392426, 149.062122)  \n",
       "29 -35.352159  149.077012  (-35.352159, 149.077012)  \n",
       "30 -35.392427  149.062302  (-35.392427, 149.062302)  \n",
       "31 -35.383505  149.052571  (-35.383505, 149.052571)  \n",
       "32 -35.253398  149.165685  (-35.253398, 149.165685)  \n",
       "33 -35.404784  149.103042  (-35.404784, 149.103042)  \n",
       "34 -35.167850  149.143869   (-35.16785, 149.143869)  \n",
       "35 -35.188035  149.162369  (-35.188035, 149.162369)  \n",
       "36 -35.418688  149.083038  (-35.418688, 149.083038)  \n",
       "37 -35.208530  149.001871   (-35.20853, 149.001871)  \n",
       "38 -35.247334  149.120967  (-35.247334, 149.120967)  \n",
       "39 -35.188399  149.017748  (-35.188399, 149.017748)  \n",
       "40 -35.180051  149.119613  (-35.180051, 149.119613)  \n",
       "41 -35.339862  149.091642  (-35.339862, 149.091642)  \n",
       "42 -35.377732  149.053236  (-35.377732, 149.053236)  \n",
       "43 -35.277923  149.134538  (-35.277923, 149.134538)  \n",
       "44 -35.179882  149.129916  (-35.179882, 149.129916)  "
      ],
      "text/html": [
       "<div>\n",
       "<style scoped>\n",
       "    .dataframe tbody tr th:only-of-type {\n",
       "        vertical-align: middle;\n",
       "    }\n",
       "\n",
       "    .dataframe tbody tr th {\n",
       "        vertical-align: top;\n",
       "    }\n",
       "\n",
       "    .dataframe thead th {\n",
       "        text-align: right;\n",
       "    }\n",
       "</style>\n",
       "<table border=\"1\" class=\"dataframe\">\n",
       "  <thead>\n",
       "    <tr style=\"text-align: right;\">\n",
       "      <th></th>\n",
       "      <th>ID</th>\n",
       "      <th>TYPE</th>\n",
       "      <th>DIVISION</th>\n",
       "      <th>LOCATION</th>\n",
       "      <th>IMAGE_LINK</th>\n",
       "      <th>VIDEO_LINK</th>\n",
       "      <th>LATITUDE</th>\n",
       "      <th>LONGITUDE</th>\n",
       "      <th>Location_1</th>\n",
       "    </tr>\n",
       "  </thead>\n",
       "  <tbody>\n",
       "    <tr>\n",
       "      <th>0</th>\n",
       "      <td>Bskt45</td>\n",
       "      <td>Double Court</td>\n",
       "      <td>Wright</td>\n",
       "      <td>Porter Street Neighbourhood Park</td>\n",
       "      <td>NaN</td>\n",
       "      <td>NaN</td>\n",
       "      <td>-35.311400</td>\n",
       "      <td>149.028152</td>\n",
       "      <td>(-35.3114, 149.028152)</td>\n",
       "    </tr>\n",
       "    <tr>\n",
       "      <th>1</th>\n",
       "      <td>Bskt2</td>\n",
       "      <td>Single Court</td>\n",
       "      <td>Ainslie</td>\n",
       "      <td>Corroboree Park</td>\n",
       "      <td>NaN</td>\n",
       "      <td>NaN</td>\n",
       "      <td>-35.268338</td>\n",
       "      <td>149.141855</td>\n",
       "      <td>(-35.268338, 149.141855)</td>\n",
       "    </tr>\n",
       "    <tr>\n",
       "      <th>2</th>\n",
       "      <td>Bskt14</td>\n",
       "      <td>Single Court</td>\n",
       "      <td>Deakin</td>\n",
       "      <td>Lawley Street - Neighbourhood Park</td>\n",
       "      <td>NaN</td>\n",
       "      <td>NaN</td>\n",
       "      <td>-35.319147</td>\n",
       "      <td>149.100659</td>\n",
       "      <td>(-35.319147, 149.100659)</td>\n",
       "    </tr>\n",
       "    <tr>\n",
       "      <th>3</th>\n",
       "      <td>Bskt11</td>\n",
       "      <td>Single Court</td>\n",
       "      <td>Flynn</td>\n",
       "      <td>Blackwell Circuit Neighbourhood Park</td>\n",
       "      <td>NaN</td>\n",
       "      <td>NaN</td>\n",
       "      <td>-35.206624</td>\n",
       "      <td>149.038999</td>\n",
       "      <td>(-35.206624, 149.038999)</td>\n",
       "    </tr>\n",
       "    <tr>\n",
       "      <th>4</th>\n",
       "      <td>Bskt39</td>\n",
       "      <td>Single Court</td>\n",
       "      <td>Nicholls</td>\n",
       "      <td>Lyrebird Place Pedestrian Parkland</td>\n",
       "      <td>NaN</td>\n",
       "      <td>NaN</td>\n",
       "      <td>-35.193455</td>\n",
       "      <td>149.106676</td>\n",
       "      <td>(-35.193455, 149.106676)</td>\n",
       "    </tr>\n",
       "    <tr>\n",
       "      <th>5</th>\n",
       "      <td>Bskt10</td>\n",
       "      <td>4 Way Hoop</td>\n",
       "      <td>Lyons</td>\n",
       "      <td>Devonport Street - Neighbourhood Park</td>\n",
       "      <td>NaN</td>\n",
       "      <td>NaN</td>\n",
       "      <td>-35.336639</td>\n",
       "      <td>149.073916</td>\n",
       "      <td>(-35.336639, 149.073916)</td>\n",
       "    </tr>\n",
       "    <tr>\n",
       "      <th>6</th>\n",
       "      <td>Bskt40</td>\n",
       "      <td>Half Court</td>\n",
       "      <td>Chisholm</td>\n",
       "      <td>Alston Street Neighbourhood Park</td>\n",
       "      <td>NaN</td>\n",
       "      <td>NaN</td>\n",
       "      <td>-35.421280</td>\n",
       "      <td>149.122054</td>\n",
       "      <td>(-35.42128, 149.122054)</td>\n",
       "    </tr>\n",
       "    <tr>\n",
       "      <th>7</th>\n",
       "      <td>Bskt25</td>\n",
       "      <td>Single Court</td>\n",
       "      <td>Macarthur</td>\n",
       "      <td>Hawkesworth Place - Neighbourhood Park</td>\n",
       "      <td>NaN</td>\n",
       "      <td>NaN</td>\n",
       "      <td>-35.408123</td>\n",
       "      <td>149.129002</td>\n",
       "      <td>(-35.408123, 149.129002)</td>\n",
       "    </tr>\n",
       "    <tr>\n",
       "      <th>8</th>\n",
       "      <td>Bskt5</td>\n",
       "      <td>Half Court</td>\n",
       "      <td>Greenway</td>\n",
       "      <td>Lake Tuggeranong District Park</td>\n",
       "      <td>NaN</td>\n",
       "      <td>NaN</td>\n",
       "      <td>-35.402904</td>\n",
       "      <td>149.071724</td>\n",
       "      <td>(-35.402904, 149.071724)</td>\n",
       "    </tr>\n",
       "    <tr>\n",
       "      <th>9</th>\n",
       "      <td>Bskt8</td>\n",
       "      <td>4 Way Hoop</td>\n",
       "      <td>Kambah</td>\n",
       "      <td>Rundle Place - Neighbourhood Park</td>\n",
       "      <td>NaN</td>\n",
       "      <td>NaN</td>\n",
       "      <td>-35.372251</td>\n",
       "      <td>149.062246</td>\n",
       "      <td>(-35.372251, 149.062246)</td>\n",
       "    </tr>\n",
       "    <tr>\n",
       "      <th>10</th>\n",
       "      <td>Bskt26</td>\n",
       "      <td>4 Way Hoop</td>\n",
       "      <td>Oaks Estate</td>\n",
       "      <td>River Street Neighbourhood Park</td>\n",
       "      <td>NaN</td>\n",
       "      <td>NaN</td>\n",
       "      <td>-35.341884</td>\n",
       "      <td>149.227383</td>\n",
       "      <td>(-35.341884, 149.227383)</td>\n",
       "    </tr>\n",
       "    <tr>\n",
       "      <th>11</th>\n",
       "      <td>Bskt29</td>\n",
       "      <td>Double Court</td>\n",
       "      <td>Belconnen</td>\n",
       "      <td>John Knight Memorial Park</td>\n",
       "      <td>NaN</td>\n",
       "      <td>NaN</td>\n",
       "      <td>-35.237826</td>\n",
       "      <td>149.074645</td>\n",
       "      <td>(-35.237826, 149.074645)</td>\n",
       "    </tr>\n",
       "    <tr>\n",
       "      <th>12</th>\n",
       "      <td>Bskt4</td>\n",
       "      <td>Half Court</td>\n",
       "      <td>Deakin</td>\n",
       "      <td>Hannah Place - Pedestrian Parkland</td>\n",
       "      <td>NaN</td>\n",
       "      <td>NaN</td>\n",
       "      <td>-35.314768</td>\n",
       "      <td>149.105790</td>\n",
       "      <td>(-35.314768, 149.10579)</td>\n",
       "    </tr>\n",
       "    <tr>\n",
       "      <th>13</th>\n",
       "      <td>Bskt32</td>\n",
       "      <td>Single Court</td>\n",
       "      <td>O'connor</td>\n",
       "      <td>Cockle Street  Pedestrian Parkland</td>\n",
       "      <td>NaN</td>\n",
       "      <td>NaN</td>\n",
       "      <td>-35.264871</td>\n",
       "      <td>149.113599</td>\n",
       "      <td>(-35.264871, 149.113599)</td>\n",
       "    </tr>\n",
       "    <tr>\n",
       "      <th>14</th>\n",
       "      <td>Bskt42</td>\n",
       "      <td>4 Way Hoop</td>\n",
       "      <td>Charnwood</td>\n",
       "      <td>Packham Place Neighbourhood Park</td>\n",
       "      <td>NaN</td>\n",
       "      <td>NaN</td>\n",
       "      <td>-35.201965</td>\n",
       "      <td>149.038737</td>\n",
       "      <td>(-35.201965, 149.038737)</td>\n",
       "    </tr>\n",
       "    <tr>\n",
       "      <th>15</th>\n",
       "      <td>Bskt7</td>\n",
       "      <td>4 Way Hoop</td>\n",
       "      <td>Kambah</td>\n",
       "      <td>Boddington Crescent - Neighbourhood Park</td>\n",
       "      <td>NaN</td>\n",
       "      <td>NaN</td>\n",
       "      <td>-35.389103</td>\n",
       "      <td>149.051935</td>\n",
       "      <td>(-35.389103, 149.051935)</td>\n",
       "    </tr>\n",
       "    <tr>\n",
       "      <th>16</th>\n",
       "      <td>Bskt35</td>\n",
       "      <td>Half Court</td>\n",
       "      <td>Waramanga</td>\n",
       "      <td>Nemarang Crescent Neighbourhood Park</td>\n",
       "      <td>NaN</td>\n",
       "      <td>NaN</td>\n",
       "      <td>-35.357267</td>\n",
       "      <td>149.063593</td>\n",
       "      <td>(-35.357267, 149.063593)</td>\n",
       "    </tr>\n",
       "    <tr>\n",
       "      <th>17</th>\n",
       "      <td>Bskt12</td>\n",
       "      <td>Half Court</td>\n",
       "      <td>Evatt</td>\n",
       "      <td>Kingston Street Pedestrian Parkland</td>\n",
       "      <td>NaN</td>\n",
       "      <td>NaN</td>\n",
       "      <td>-35.209532</td>\n",
       "      <td>149.077357</td>\n",
       "      <td>(-35.209532, 149.077357)</td>\n",
       "    </tr>\n",
       "    <tr>\n",
       "      <th>18</th>\n",
       "      <td>Bskt6</td>\n",
       "      <td>Single Court</td>\n",
       "      <td>Gordon</td>\n",
       "      <td>Point Hut District Park</td>\n",
       "      <td>NaN</td>\n",
       "      <td>NaN</td>\n",
       "      <td>-35.456377</td>\n",
       "      <td>149.084235</td>\n",
       "      <td>(-35.456377, 149.084235)</td>\n",
       "    </tr>\n",
       "    <tr>\n",
       "      <th>19</th>\n",
       "      <td>Bskt28</td>\n",
       "      <td>Half Court</td>\n",
       "      <td>Paddys River (Rural Dist.)</td>\n",
       "      <td>Coree - Cotter Road</td>\n",
       "      <td>NaN</td>\n",
       "      <td>NaN</td>\n",
       "      <td>-35.323883</td>\n",
       "      <td>148.941168</td>\n",
       "      <td>(-35.323883, 148.941168)</td>\n",
       "    </tr>\n",
       "    <tr>\n",
       "      <th>20</th>\n",
       "      <td>Bskt17</td>\n",
       "      <td>Half Court</td>\n",
       "      <td>Bonython</td>\n",
       "      <td>Burgoyne Street Neighbourhood Park</td>\n",
       "      <td>NaN</td>\n",
       "      <td>NaN</td>\n",
       "      <td>-35.426712</td>\n",
       "      <td>149.071640</td>\n",
       "      <td>(-35.426712, 149.07164)</td>\n",
       "    </tr>\n",
       "    <tr>\n",
       "      <th>21</th>\n",
       "      <td>Bskt34</td>\n",
       "      <td>Half Court</td>\n",
       "      <td>Waramanga</td>\n",
       "      <td>Malara Street Neighbourhood Park</td>\n",
       "      <td>NaN</td>\n",
       "      <td>NaN</td>\n",
       "      <td>-35.350207</td>\n",
       "      <td>149.061227</td>\n",
       "      <td>(-35.350207, 149.061227)</td>\n",
       "    </tr>\n",
       "    <tr>\n",
       "      <th>22</th>\n",
       "      <td>Bskt1</td>\n",
       "      <td>Half Court</td>\n",
       "      <td>Weston</td>\n",
       "      <td>Dillon Close - Pedestrian Parkland</td>\n",
       "      <td>NaN</td>\n",
       "      <td>NaN</td>\n",
       "      <td>-35.337649</td>\n",
       "      <td>149.053683</td>\n",
       "      <td>(-35.337649, 149.053683)</td>\n",
       "    </tr>\n",
       "    <tr>\n",
       "      <th>23</th>\n",
       "      <td>Bskt3</td>\n",
       "      <td>Half Court</td>\n",
       "      <td>Harrison</td>\n",
       "      <td>Helby Street Neighbourhood Park</td>\n",
       "      <td>NaN</td>\n",
       "      <td>NaN</td>\n",
       "      <td>-35.207980</td>\n",
       "      <td>149.160242</td>\n",
       "      <td>(-35.20798, 149.160242)</td>\n",
       "    </tr>\n",
       "    <tr>\n",
       "      <th>24</th>\n",
       "      <td>Bskt15</td>\n",
       "      <td>Half Court</td>\n",
       "      <td>Kingston</td>\n",
       "      <td>Sandalwood Street - Neighbourhood Park</td>\n",
       "      <td>NaN</td>\n",
       "      <td>NaN</td>\n",
       "      <td>-35.316660</td>\n",
       "      <td>149.152879</td>\n",
       "      <td>(-35.31666, 149.152879)</td>\n",
       "    </tr>\n",
       "    <tr>\n",
       "      <th>25</th>\n",
       "      <td>Bskt30</td>\n",
       "      <td>Single Court</td>\n",
       "      <td>Narrabundah</td>\n",
       "      <td>Kootara Crescent</td>\n",
       "      <td>NaN</td>\n",
       "      <td>NaN</td>\n",
       "      <td>-35.330285</td>\n",
       "      <td>149.151911</td>\n",
       "      <td>(-35.330285, 149.151911)</td>\n",
       "    </tr>\n",
       "    <tr>\n",
       "      <th>26</th>\n",
       "      <td>Bskt31</td>\n",
       "      <td>Half Court</td>\n",
       "      <td>Forde</td>\n",
       "      <td>Mulligans Flat Road Pedestrian Parkland</td>\n",
       "      <td>NaN</td>\n",
       "      <td>NaN</td>\n",
       "      <td>-35.157396</td>\n",
       "      <td>149.150881</td>\n",
       "      <td>(-35.157396, 149.150881)</td>\n",
       "    </tr>\n",
       "    <tr>\n",
       "      <th>27</th>\n",
       "      <td>Bskt33</td>\n",
       "      <td>Half Court</td>\n",
       "      <td>Duffy</td>\n",
       "      <td>Cargelligo Street Pedestrian Parkland</td>\n",
       "      <td>NaN</td>\n",
       "      <td>NaN</td>\n",
       "      <td>-35.334126</td>\n",
       "      <td>149.030598</td>\n",
       "      <td>(-35.334126, 149.030598)</td>\n",
       "    </tr>\n",
       "    <tr>\n",
       "      <th>28</th>\n",
       "      <td>Bskt37</td>\n",
       "      <td>4 Way Hoop</td>\n",
       "      <td>Kambah</td>\n",
       "      <td>Kambah District Park</td>\n",
       "      <td>NaN</td>\n",
       "      <td>NaN</td>\n",
       "      <td>-35.392426</td>\n",
       "      <td>149.062122</td>\n",
       "      <td>(-35.392426, 149.062122)</td>\n",
       "    </tr>\n",
       "    <tr>\n",
       "      <th>29</th>\n",
       "      <td>Bskt24</td>\n",
       "      <td>Half Court</td>\n",
       "      <td>Chifley</td>\n",
       "      <td>Shann Place  Neighbourhood Park</td>\n",
       "      <td>NaN</td>\n",
       "      <td>NaN</td>\n",
       "      <td>-35.352159</td>\n",
       "      <td>149.077012</td>\n",
       "      <td>(-35.352159, 149.077012)</td>\n",
       "    </tr>\n",
       "    <tr>\n",
       "      <th>30</th>\n",
       "      <td>Bskt38</td>\n",
       "      <td>4 Way Hoop</td>\n",
       "      <td>Kambah</td>\n",
       "      <td>Kambah District Park</td>\n",
       "      <td>NaN</td>\n",
       "      <td>NaN</td>\n",
       "      <td>-35.392427</td>\n",
       "      <td>149.062302</td>\n",
       "      <td>(-35.392427, 149.062302)</td>\n",
       "    </tr>\n",
       "    <tr>\n",
       "      <th>31</th>\n",
       "      <td>Bskt23</td>\n",
       "      <td>Half Court</td>\n",
       "      <td>Kambah</td>\n",
       "      <td>Boddington Crescent Neighbourhood Park</td>\n",
       "      <td>NaN</td>\n",
       "      <td>NaN</td>\n",
       "      <td>-35.383505</td>\n",
       "      <td>149.052571</td>\n",
       "      <td>(-35.383505, 149.052571)</td>\n",
       "    </tr>\n",
       "    <tr>\n",
       "      <th>32</th>\n",
       "      <td>Bskt13</td>\n",
       "      <td>Half Court</td>\n",
       "      <td>Hackett</td>\n",
       "      <td>Brennan Street  Neighbourhood Park</td>\n",
       "      <td>NaN</td>\n",
       "      <td>NaN</td>\n",
       "      <td>-35.253398</td>\n",
       "      <td>149.165685</td>\n",
       "      <td>(-35.253398, 149.165685)</td>\n",
       "    </tr>\n",
       "    <tr>\n",
       "      <th>33</th>\n",
       "      <td>Bskt36</td>\n",
       "      <td>Half Court</td>\n",
       "      <td>Wanniassa</td>\n",
       "      <td>Lansell Circuit Pedestrian Parkland</td>\n",
       "      <td>NaN</td>\n",
       "      <td>NaN</td>\n",
       "      <td>-35.404784</td>\n",
       "      <td>149.103042</td>\n",
       "      <td>(-35.404784, 149.103042)</td>\n",
       "    </tr>\n",
       "    <tr>\n",
       "      <th>34</th>\n",
       "      <td>Bskt22</td>\n",
       "      <td>Half Court</td>\n",
       "      <td>Forde</td>\n",
       "      <td>Amy Ackman Street Neighbourhood Park</td>\n",
       "      <td>NaN</td>\n",
       "      <td>NaN</td>\n",
       "      <td>-35.167850</td>\n",
       "      <td>149.143869</td>\n",
       "      <td>(-35.16785, 149.143869)</td>\n",
       "    </tr>\n",
       "    <tr>\n",
       "      <th>35</th>\n",
       "      <td>Bskt44</td>\n",
       "      <td>Single Court</td>\n",
       "      <td>Throsby</td>\n",
       "      <td>Bettong Avenue Neighbourhood Park</td>\n",
       "      <td>NaN</td>\n",
       "      <td>NaN</td>\n",
       "      <td>-35.188035</td>\n",
       "      <td>149.162369</td>\n",
       "      <td>(-35.188035, 149.162369)</td>\n",
       "    </tr>\n",
       "    <tr>\n",
       "      <th>36</th>\n",
       "      <td>Bskt43</td>\n",
       "      <td>Half Court</td>\n",
       "      <td>Monash</td>\n",
       "      <td>Griffin Place Pedestrian Parkland</td>\n",
       "      <td>NaN</td>\n",
       "      <td>NaN</td>\n",
       "      <td>-35.418688</td>\n",
       "      <td>149.083038</td>\n",
       "      <td>(-35.418688, 149.083038)</td>\n",
       "    </tr>\n",
       "    <tr>\n",
       "      <th>37</th>\n",
       "      <td>Bskt16</td>\n",
       "      <td>Half Court</td>\n",
       "      <td>Macgregor</td>\n",
       "      <td>Clyde Finlay Street Neighbourhood Park</td>\n",
       "      <td>NaN</td>\n",
       "      <td>NaN</td>\n",
       "      <td>-35.208530</td>\n",
       "      <td>149.001871</td>\n",
       "      <td>(-35.20853, 149.001871)</td>\n",
       "    </tr>\n",
       "    <tr>\n",
       "      <th>38</th>\n",
       "      <td>Bskt20</td>\n",
       "      <td>Double Court</td>\n",
       "      <td>Lyneham</td>\n",
       "      <td>Lambert Place - Road Verge</td>\n",
       "      <td>NaN</td>\n",
       "      <td>NaN</td>\n",
       "      <td>-35.247334</td>\n",
       "      <td>149.120967</td>\n",
       "      <td>(-35.247334, 149.120967)</td>\n",
       "    </tr>\n",
       "    <tr>\n",
       "      <th>39</th>\n",
       "      <td>Bskt21</td>\n",
       "      <td>Half Court</td>\n",
       "      <td>Dunlop</td>\n",
       "      <td>Percy Pegg Circuit Neighbourhood Park</td>\n",
       "      <td>NaN</td>\n",
       "      <td>NaN</td>\n",
       "      <td>-35.188399</td>\n",
       "      <td>149.017748</td>\n",
       "      <td>(-35.188399, 149.017748)</td>\n",
       "    </tr>\n",
       "    <tr>\n",
       "      <th>40</th>\n",
       "      <td>Bskt41</td>\n",
       "      <td>Half Court</td>\n",
       "      <td>Ngunnawal</td>\n",
       "      <td>Gadali Crescent Pedestrian Parkland</td>\n",
       "      <td>NaN</td>\n",
       "      <td>NaN</td>\n",
       "      <td>-35.180051</td>\n",
       "      <td>149.119613</td>\n",
       "      <td>(-35.180051, 149.119613)</td>\n",
       "    </tr>\n",
       "    <tr>\n",
       "      <th>41</th>\n",
       "      <td>Bskt19</td>\n",
       "      <td>Half Court</td>\n",
       "      <td>Phillip</td>\n",
       "      <td>Edison District Park</td>\n",
       "      <td>NaN</td>\n",
       "      <td>NaN</td>\n",
       "      <td>-35.339862</td>\n",
       "      <td>149.091642</td>\n",
       "      <td>(-35.339862, 149.091642)</td>\n",
       "    </tr>\n",
       "    <tr>\n",
       "      <th>42</th>\n",
       "      <td>Bskt9</td>\n",
       "      <td>4 Way Hoop</td>\n",
       "      <td>Kambah</td>\n",
       "      <td>Attiwell Circuit - Neighbourhood Park</td>\n",
       "      <td>NaN</td>\n",
       "      <td>NaN</td>\n",
       "      <td>-35.377732</td>\n",
       "      <td>149.053236</td>\n",
       "      <td>(-35.377732, 149.053236)</td>\n",
       "    </tr>\n",
       "    <tr>\n",
       "      <th>43</th>\n",
       "      <td>Bskt27</td>\n",
       "      <td>Half Court</td>\n",
       "      <td>City</td>\n",
       "      <td>City Youth Centre Basket Ball Court</td>\n",
       "      <td>NaN</td>\n",
       "      <td>NaN</td>\n",
       "      <td>-35.277923</td>\n",
       "      <td>149.134538</td>\n",
       "      <td>(-35.277923, 149.134538)</td>\n",
       "    </tr>\n",
       "    <tr>\n",
       "      <th>44</th>\n",
       "      <td>Bskt18</td>\n",
       "      <td>Single Court</td>\n",
       "      <td>Gungahlin</td>\n",
       "      <td>Yerrabi District Park</td>\n",
       "      <td>NaN</td>\n",
       "      <td>NaN</td>\n",
       "      <td>-35.179882</td>\n",
       "      <td>149.129916</td>\n",
       "      <td>(-35.179882, 149.129916)</td>\n",
       "    </tr>\n",
       "  </tbody>\n",
       "</table>\n",
       "</div>"
      ]
     },
     "metadata": {},
     "execution_count": 14
    }
   ],
   "metadata": {}
  },
  {
   "cell_type": "code",
   "execution_count": null,
   "source": [
    "basketball_data.plot.scatter(\"LONGITUDE\", \"LATITUDE\")\r\n",
    "\r\n",
    "plt.title(\"Location of Basketball Courts\", fontsize=18)\r\n",
    "plt.xlabel(\"Latitude\", fontsize=10)\r\n",
    "plt.ylabel(\"Longitude\", fontsize=10)"
   ],
   "outputs": [
    {
     "output_type": "execute_result",
     "data": {
      "text/plain": [
       "Text(0, 0.5, 'Longitude')"
      ]
     },
     "metadata": {},
     "execution_count": 27
    },
    {
     "output_type": "display_data",
     "data": {
      "text/plain": [
       "<Figure size 720x360 with 1 Axes>"
      ],
      "image/png": "[encoded data removed]"
     },
     "metadata": {
      "needs_background": "light"
     }
    }
   ],
   "metadata": {
    "slideshow": {
     "slide_type": "slide"
    }
   }
  },
  {
   "cell_type": "markdown",
   "source": [
    "This scatterplot shows the location of all basketball courts in the A.C.T."
   ],
   "metadata": {}
  },
  {
   "cell_type": "code",
   "execution_count": null,
   "source": [
    "Cyclist_Crashes_data.plot.scatter(\"LONGITUDE\", \"LATITUDE\")\r\n",
    "\r\n",
    "plt.title(\"Cyclist Casualties per Crash\", fontsize=18)\r\n",
    "plt.xlabel(\"Latitude\", fontsize=10)\r\n",
    "plt.ylabel(\"Longtitude\", fontsize=10)"
   ],
   "outputs": [
    {
     "output_type": "execute_result",
     "data": {
      "text/plain": [
       "Text(0, 0.5, 'Longtitude')"
      ]
     },
     "metadata": {},
     "execution_count": 28
    },
    {
     "output_type": "display_data",
     "data": {
      "text/plain": [
       "<Figure size 720x360 with 1 Axes>"
      ],
      "image/png": "[encoded data removed]"
     },
     "metadata": {
      "needs_background": "light"
     }
    }
   ],
   "metadata": {}
  },
  {
   "cell_type": "markdown",
   "source": [
    "This scatterplot shows the location of where cyclist crashes have occured from 4th January 2012 to the 3rd October 2020.\r\n",
    "\r\n",
    "This scatterplot is also clustered in the same areas where basketball courts are which shows a relationship between basketball courts and cyclist crashes."
   ],
   "metadata": {}
  },
  {
   "cell_type": "markdown",
   "source": [
    "After seeing this commonality between the two scatter plots I was curious to see the severity of these cyclist crashes so I looked into their casualties"
   ],
   "metadata": {}
  },
  {
   "cell_type": "code",
   "execution_count": 65,
   "source": [
    "Cyclist_Crashes_data[\"CYCLISTS\"].hist()\r\n",
    "\r\n",
    "plt.title(\"Frequency of Cyclist Casualties\", fontsize=18)\r\n",
    "plt.xlabel(\"Number of Incidents\", fontsize=10)\r\n",
    "plt.ylabel(\"Number of Cyclists Involed\", fontsize=10)"
   ],
   "outputs": [
    {
     "output_type": "execute_result",
     "data": {
      "text/plain": [
       "Text(0, 0.5, 'Number of Cyclists Involed')"
      ]
     },
     "metadata": {},
     "execution_count": 65
    },
    {
     "output_type": "display_data",
     "data": {
      "text/plain": [
       "<Figure size 720x360 with 1 Axes>"
      ],
      "image/png": "[encoded data removed]"
     },
     "metadata": {
      "needs_background": "light"
     }
    }
   ],
   "metadata": {}
  },
  {
   "cell_type": "markdown",
   "source": [
    "This graphs shows many cyclists were involed in each incident.\r\n",
    "\r\n",
    "1 is the most common because it's usally one person riding a book which explains why 2 and 3 seater bikes have less incidents. "
   ],
   "metadata": {}
  },
  {
   "cell_type": "code",
   "execution_count": 99,
   "source": [
    "CRASH_TYPE = Cyclist_Crashes_data[\"CRASH_TYPE\"].value_counts()\r\n",
    "CRASH_TYPE[CRASH_TYPE >= 3].plot(kind=\"bar\")\r\n",
    "\r\n",
    "plt.title(\"Frequency of Crash Types\", fontsize=18)\r\n",
    "plt.xlabel(\"Number of Incidents\", fontsize=10)\r\n",
    "plt.ylabel(\"Number of Cyclists Involed\", fontsize=10)"
   ],
   "outputs": [
    {
     "output_type": "execute_result",
     "data": {
      "text/plain": [
       "Text(0, 0.5, 'Number of Cyclists Involed')"
      ]
     },
     "metadata": {},
     "execution_count": 99
    },
    {
     "output_type": "display_data",
     "data": {
      "text/plain": [
       "<Figure size 720x360 with 1 Axes>"
      ],
      "image/png": "[encoded data removed]"
     },
     "metadata": {
      "needs_background": "light"
     }
    }
   ],
   "metadata": {}
  },
  {
   "cell_type": "markdown",
   "source": [
    "This graph shows which type of crashes have occured the most.\r\n",
    "\r\n",
    "With cyclist to cylist to crashes happening the most."
   ],
   "metadata": {}
  },
  {
   "cell_type": "code",
   "execution_count": null,
   "source": [
    "basketball_data[\"LATITUDE\"].hist()\r\n",
    "\r\n",
    "plt.title(\"Incidents in each range of latitude\", fontsize=18)\r\n",
    "plt.xlabel(\"Incidents\", fontsize=10)\r\n",
    "plt.ylabel(\"Number of Casualties\", fontsize=10)"
   ],
   "outputs": [
    {
     "output_type": "execute_result",
     "data": {
      "text/plain": [
       "Text(0, 0.5, 'Number of Casualties')"
      ]
     },
     "metadata": {},
     "execution_count": 30
    },
    {
     "output_type": "display_data",
     "data": {
      "text/plain": [
       "<Figure size 720x360 with 1 Axes>"
      ],
      "image/png": "[encoded data removed]"
     },
     "metadata": {
      "needs_background": "light"
     }
    }
   ],
   "metadata": {
    "slideshow": {
     "slide_type": "slide"
    }
   }
  },
  {
   "cell_type": "code",
   "execution_count": null,
   "source": [
    "Cyclist_Crashes_data[\"LATITUDE\"].hist()\r\n",
    "\r\n",
    "plt.title(\"Incidents in each range of longtitude\", fontsize=18)\r\n",
    "plt.xlabel(\"Incidents\", fontsize=10)\r\n",
    "plt.ylabel(\"Number of Casualties\", fontsize=10)"
   ],
   "outputs": [
    {
     "output_type": "execute_result",
     "data": {
      "text/plain": [
       "Text(0, 0.5, 'Number of Casualties')"
      ]
     },
     "metadata": {},
     "execution_count": 33
    },
    {
     "output_type": "display_data",
     "data": {
      "text/plain": [
       "<Figure size 720x360 with 1 Axes>"
      ],
      "image/png": "[encoded data removed]"
     },
     "metadata": {
      "needs_background": "light"
     }
    }
   ],
   "metadata": {}
  },
  {
   "cell_type": "code",
   "execution_count": null,
   "source": [
    "Cyclist_Crashes_data[\"CYCLIST_CASUALTIES\"].hist()\r\n",
    "\r\n",
    "plt.title(\"Cyclist Casualties per Crash\", fontsize=18)\r\n",
    "plt.xlabel(\"Incidents\", fontsize=10)\r\n",
    "plt.ylabel(\"Number of Casualties\", fontsize=10)"
   ],
   "outputs": [
    {
     "output_type": "execute_result",
     "data": {
      "text/plain": [
       "Text(0, 0.5, 'Number of Casualties')"
      ]
     },
     "metadata": {},
     "execution_count": 20
    },
    {
     "output_type": "display_data",
     "data": {
      "text/plain": [
       "<Figure size 720x360 with 1 Axes>"
      ],
      "image/png": "[encoded data removed]"
     },
     "metadata": {
      "needs_background": "light"
     }
    }
   ],
   "metadata": {}
  },
  {
   "cell_type": "markdown",
   "source": [
    "This graph shows that most cyclist crashes usuallly involve 1 or less person and that it'll be rare to involve 2 casualties."
   ],
   "metadata": {}
  },
  {
   "cell_type": "code",
   "execution_count": null,
   "source": [
    "Cyclist_Crashes_data.groupby(pd.Grouper(key=\"CRASH_DATE\")).mean()"
   ],
   "outputs": [
    {
     "output_type": "execute_result",
     "data": {
      "text/plain": [
       "                   CRASH_ID  CYCLISTS  CYCLIST_CASUALTIES   LATITUDE  \\\n",
       "CRASH_DATE                                                             \n",
       "02 August 2019    1212158.0       1.0                 1.0 -35.272927   \n",
       "26 July 2019      1212104.5       1.0                 0.5 -35.272886   \n",
       "15 July 2018      1188323.0       1.0                 0.0 -35.312936   \n",
       "19 July 2018      1188961.0       1.0                 0.0 -35.263355   \n",
       "16 December 2019  1221090.0       1.0                 0.0 -35.261346   \n",
       "...                     ...       ...                 ...        ...   \n",
       "22 June 2018      1187118.0       1.0                 0.5 -35.255578   \n",
       "27 June 2018      1186930.0       1.0                 1.0 -35.218244   \n",
       "19 June 2018      1187169.0       1.0                 0.0 -35.260263   \n",
       "20 June 2018      1187255.5       1.0                 0.0 -35.268543   \n",
       "26 June 2018      1187665.0       1.0                 1.0 -35.275784   \n",
       "\n",
       "                   LONGITUDE  \n",
       "CRASH_DATE                    \n",
       "02 August 2019    149.135539  \n",
       "26 July 2019      149.133298  \n",
       "15 July 2018      149.082802  \n",
       "19 July 2018      149.135571  \n",
       "16 December 2019  149.133405  \n",
       "...                      ...  \n",
       "22 June 2018      149.137340  \n",
       "27 June 2018      149.130995  \n",
       "19 June 2018      149.130629  \n",
       "20 June 2018      149.121415  \n",
       "26 June 2018      149.129771  \n",
       "\n",
       "[1250 rows x 5 columns]"
      ],
      "text/html": [
       "<div>\n",
       "<style scoped>\n",
       "    .dataframe tbody tr th:only-of-type {\n",
       "        vertical-align: middle;\n",
       "    }\n",
       "\n",
       "    .dataframe tbody tr th {\n",
       "        vertical-align: top;\n",
       "    }\n",
       "\n",
       "    .dataframe thead th {\n",
       "        text-align: right;\n",
       "    }\n",
       "</style>\n",
       "<table border=\"1\" class=\"dataframe\">\n",
       "  <thead>\n",
       "    <tr style=\"text-align: right;\">\n",
       "      <th></th>\n",
       "      <th>CRASH_ID</th>\n",
       "      <th>CYCLISTS</th>\n",
       "      <th>CYCLIST_CASUALTIES</th>\n",
       "      <th>LATITUDE</th>\n",
       "      <th>LONGITUDE</th>\n",
       "    </tr>\n",
       "    <tr>\n",
       "      <th>CRASH_DATE</th>\n",
       "      <th></th>\n",
       "      <th></th>\n",
       "      <th></th>\n",
       "      <th></th>\n",
       "      <th></th>\n",
       "    </tr>\n",
       "  </thead>\n",
       "  <tbody>\n",
       "    <tr>\n",
       "      <th>02 August 2019</th>\n",
       "      <td>1212158.0</td>\n",
       "      <td>1.0</td>\n",
       "      <td>1.0</td>\n",
       "      <td>-35.272927</td>\n",
       "      <td>149.135539</td>\n",
       "    </tr>\n",
       "    <tr>\n",
       "      <th>26 July 2019</th>\n",
       "      <td>1212104.5</td>\n",
       "      <td>1.0</td>\n",
       "      <td>0.5</td>\n",
       "      <td>-35.272886</td>\n",
       "      <td>149.133298</td>\n",
       "    </tr>\n",
       "    <tr>\n",
       "      <th>15 July 2018</th>\n",
       "      <td>1188323.0</td>\n",
       "      <td>1.0</td>\n",
       "      <td>0.0</td>\n",
       "      <td>-35.312936</td>\n",
       "      <td>149.082802</td>\n",
       "    </tr>\n",
       "    <tr>\n",
       "      <th>19 July 2018</th>\n",
       "      <td>1188961.0</td>\n",
       "      <td>1.0</td>\n",
       "      <td>0.0</td>\n",
       "      <td>-35.263355</td>\n",
       "      <td>149.135571</td>\n",
       "    </tr>\n",
       "    <tr>\n",
       "      <th>16 December 2019</th>\n",
       "      <td>1221090.0</td>\n",
       "      <td>1.0</td>\n",
       "      <td>0.0</td>\n",
       "      <td>-35.261346</td>\n",
       "      <td>149.133405</td>\n",
       "    </tr>\n",
       "    <tr>\n",
       "      <th>...</th>\n",
       "      <td>...</td>\n",
       "      <td>...</td>\n",
       "      <td>...</td>\n",
       "      <td>...</td>\n",
       "      <td>...</td>\n",
       "    </tr>\n",
       "    <tr>\n",
       "      <th>22 June 2018</th>\n",
       "      <td>1187118.0</td>\n",
       "      <td>1.0</td>\n",
       "      <td>0.5</td>\n",
       "      <td>-35.255578</td>\n",
       "      <td>149.137340</td>\n",
       "    </tr>\n",
       "    <tr>\n",
       "      <th>27 June 2018</th>\n",
       "      <td>1186930.0</td>\n",
       "      <td>1.0</td>\n",
       "      <td>1.0</td>\n",
       "      <td>-35.218244</td>\n",
       "      <td>149.130995</td>\n",
       "    </tr>\n",
       "    <tr>\n",
       "      <th>19 June 2018</th>\n",
       "      <td>1187169.0</td>\n",
       "      <td>1.0</td>\n",
       "      <td>0.0</td>\n",
       "      <td>-35.260263</td>\n",
       "      <td>149.130629</td>\n",
       "    </tr>\n",
       "    <tr>\n",
       "      <th>20 June 2018</th>\n",
       "      <td>1187255.5</td>\n",
       "      <td>1.0</td>\n",
       "      <td>0.0</td>\n",
       "      <td>-35.268543</td>\n",
       "      <td>149.121415</td>\n",
       "    </tr>\n",
       "    <tr>\n",
       "      <th>26 June 2018</th>\n",
       "      <td>1187665.0</td>\n",
       "      <td>1.0</td>\n",
       "      <td>1.0</td>\n",
       "      <td>-35.275784</td>\n",
       "      <td>149.129771</td>\n",
       "    </tr>\n",
       "  </tbody>\n",
       "</table>\n",
       "<p>1250 rows × 5 columns</p>\n",
       "</div>"
      ]
     },
     "metadata": {},
     "execution_count": 21
    }
   ],
   "metadata": {}
  },
  {
   "cell_type": "code",
   "execution_count": null,
   "source": [
    "basketball_data.LATITUDE[basketball_data.LATITUDE < 149.10].hist() "
   ],
   "outputs": [
    {
     "output_type": "execute_result",
     "data": {
      "text/plain": [
       "<AxesSubplot:>"
      ]
     },
     "metadata": {},
     "execution_count": 23
    },
    {
     "output_type": "display_data",
     "data": {
      "text/plain": [
       "<Figure size 720x360 with 1 Axes>"
      ],
      "image/png": "[encoded data removed]"
     },
     "metadata": {
      "needs_background": "light"
     }
    }
   ],
   "metadata": {
    "slideshow": {
     "slide_type": "slide"
    }
   }
  },
  {
   "cell_type": "markdown",
   "source": [
    "Number of Courts that are on the left half of ACT"
   ],
   "metadata": {
    "slideshow": {
     "slide_type": "slide"
    }
   }
  },
  {
   "cell_type": "code",
   "execution_count": null,
   "source": [
    "Cyclist_Crashes_data.LATITUDE[Cyclist_Crashes_data.LATITUDE < 149.10].hist() "
   ],
   "outputs": [
    {
     "output_type": "execute_result",
     "data": {
      "text/plain": [
       "<AxesSubplot:>"
      ]
     },
     "metadata": {},
     "execution_count": 24
    },
    {
     "output_type": "display_data",
     "data": {
      "text/plain": [
       "<Figure size 720x360 with 1 Axes>"
      ],
      "image/png": "[encoded data removed]"
     },
     "metadata": {
      "needs_background": "light"
     }
    }
   ],
   "metadata": {}
  },
  {
   "cell_type": "markdown",
   "source": [
    "Number of Cyclist Crashes that have occured on the left half of the ACT"
   ],
   "metadata": {}
  },
  {
   "cell_type": "code",
   "execution_count": null,
   "source": [
    "basketball_data[\"LONGITUDE\"][basketball_data[\"LATITUDE\"] < -30].hist()"
   ],
   "outputs": [
    {
     "output_type": "execute_result",
     "data": {
      "text/plain": [
       "<AxesSubplot:>"
      ]
     },
     "metadata": {},
     "execution_count": 25
    },
    {
     "output_type": "display_data",
     "data": {
      "text/plain": [
       "<Figure size 720x360 with 1 Axes>"
      ],
      "image/png": "[encoded data removed]"
     },
     "metadata": {
      "needs_background": "light"
     }
    }
   ],
   "metadata": {
    "slideshow": {
     "slide_type": "fragment"
    }
   }
  },
  {
   "cell_type": "code",
   "execution_count": null,
   "source": [
    "basketball_data[\"LATITUDE\"][basketball_data[\"LATITUDE\"] < -20].hist()"
   ],
   "outputs": [
    {
     "output_type": "execute_result",
     "data": {
      "text/plain": [
       "<AxesSubplot:>"
      ]
     },
     "metadata": {},
     "execution_count": 26
    },
    {
     "output_type": "display_data",
     "data": {
      "text/plain": [
       "<Figure size 720x360 with 1 Axes>"
      ],
      "image/png": "[encoded data removed]"
     },
     "metadata": {
      "needs_background": "light"
     }
    }
   ],
   "metadata": {
    "slideshow": {
     "slide_type": "-"
    }
   }
  }
 ],
 "metadata": {
  "interpreter": {
   "hash": "83f502415c36d10dc09efba1451e5ad10a8d5827a661882cfefd247e6739aec2"
  },
  "kernelspec": {
   "display_name": "Python 3",
   "language": "python",
   "name": "python3"
  },
  "language_info": {
   "codemirror_mode": {
    "name": "ipython",
    "version": 3
   },
   "file_extension": ".py",
   "mimetype": "text/x-python",
   "name": "python",
   "nbconvert_exporter": "python",
   "pygments_lexer": "ipython3",
   "version": "3.8.8"
  }
 },
 "nbformat": 4,
 "nbformat_minor": 1
}